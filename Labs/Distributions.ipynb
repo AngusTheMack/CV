{
 "cells": [
  {
   "cell_type": "markdown",
   "metadata": {},
   "source": [
    "# Distributions\n",
    "This notebook explores 8 distributions, their equations, and the way they change when their parameters are manipulated. \n",
    "\n",
    "Everything here is based on the information laid out in Chapter 3, of the book [Computer Vision: Models, Learning, and Inference](http://www.computervisionmodels.com/).\n",
    "\n",
    "These distributions are useful because almost all models for computer vision can be interpreted in a probabilistic context.\n",
    "\n",
    "## Why?\n",
    "This is because, in CV, the 3D world is projected onto a 2D set of measurements. However, it is not exact and there is noise. This noise must be described, and probability is used for that. Furthermore,the relationship between world and measurements is generally many to one: there are many real-world configurations that are compatible with the same measurements. The chance that each of these possible worlds is present can also be described using probability.\n",
    "\n",
    "# The Distributions\n",
    "* Bernoulli Distribution]\n",
    "* Beta Distribution\n",
    "* Categorical Distribution\n",
    "* Dirichlet Distribution\n",
    "* Univariate Normal Distribution\n",
    "* Normal-scaled inverse gamma distribution\n",
    "* Multivariate Normal distribution\n",
    "* Normal inverse wishart distribution"
   ]
  },
  {
   "cell_type": "code",
   "execution_count": 1,
   "metadata": {},
   "outputs": [],
   "source": [
    "from scipy.stats import bernoulli, beta, gamma, invgamma, invwishart\n",
    "from ipywidgets import interact, interactive, fixed, interact_manual\n",
    "from functools import reduce\n",
    "from matplotlib import ticker, cm\n",
    "from mpl_toolkits.axes_grid1 import make_axes_locatable\n",
    "import ipywidgets as widgets\n",
    "import seaborn as sns\n",
    "import numpy as np\n",
    "import math\n",
    "import matplotlib.pyplot as plt\n",
    "import matplotlib.tri as tri\n",
    "import matplotlib.gridspec as gridspec\n",
    "import seaborn as sns\n",
    "\n",
    "np.random.seed(42)"
   ]
  },
  {
   "cell_type": "markdown",
   "metadata": {},
   "source": [
    "# Bernoulli Distribution\n",
    "* Discrete\n",
    "* Models binary trials\n",
    "* Describes the situation where there are only two possible outcomes\n",
    "* $x \\in {0,1}$\n",
    "* Single parameter, $\\lambda$ which defines the probability of observing a success $x=1$\n",
    "\n",
    "Can be expressed as:\n",
    "$$\n",
    "\\begin{array}{l}{\\operatorname{Pr}(x=0)=1-\\lambda} \\\\ {\\operatorname{Pr}(x=1)=\\lambda}\\end{array}\n",
    "$$\n",
    "\n",
    "Or alternatively:\n",
    "$$\n",
    "\\operatorname{Pr}(x)=\\lambda^{x}(1-\\lambda)^{1-x}\n",
    "$$\n",
    "\n",
    "Or:\n",
    "$$\n",
    "\\operatorname{Pr}(x)=\\operatorname{Bern}_{x}[\\lambda]\n",
    "$$\n",
    "\n",
    "* In CV the Bernoulli distribution could be used to model the data, e.g.: it might describe the probability of a pixel taking an intensity value of greater or less than 128. (thresholding) Alternatively, it could be used to model the state of the world, for instance it could describe the probability that a face is present or absent in the image."
   ]
  },
  {
   "cell_type": "code",
   "execution_count": 2,
   "metadata": {},
   "outputs": [],
   "source": [
    "def bern(𝜆):\n",
    "    data_bern = bernoulli.rvs(size=1000,p=𝜆)\n",
    "    ax = sns.distplot(data_bern,kde=True,color='crimson',hist_kws={\"linewidth\": 25,'alpha':1})\n",
    "    ax.set(xlabel='Bernoulli', ylabel='Frequency')"
   ]
  },
  {
   "cell_type": "code",
   "execution_count": 3,
   "metadata": {},
   "outputs": [
    {
     "data": {
      "application/vnd.jupyter.widget-view+json": {
       "model_id": "cb4ef19767d846ceb06f8c45e1c10c52",
       "version_major": 2,
       "version_minor": 0
      },
      "text/plain": [
       "interactive(children=(FloatSlider(value=0.5001, description='λ', max=1.0001, min=0.0001, step=0.01), Output())…"
      ]
     },
     "metadata": {},
     "output_type": "display_data"
    }
   ],
   "source": [
    "interact(bern, 𝜆=(0.0001,1.0001,0.01));"
   ]
  },
  {
   "cell_type": "markdown",
   "metadata": {},
   "source": [
    "# Beta Distribution\n",
    "* Continuous distribution defined on single variable 𝜆 where $\\lambda \\in [0,1]$\n",
    "* Used for representing uncertainty in the parameter $\\lambda$ of the Bernoulli distribution\n",
    "* Has parameters $(\\alpha, \\beta)$ whose values determine the expected value so $$\n",
    "\\mathrm{E}[\\lambda]=\\alpha /(\\alpha+\\beta)\n",
    "$$\n",
    "* $\\alpha, \\beta \\in (0,∞)$\n",
    "\n",
    "Beta distribution is represented as:\n",
    "$$\n",
    "\\operatorname{Pr}(\\lambda)=\\frac{\\Gamma[\\alpha+\\beta]}{\\Gamma[\\alpha] \\Gamma[\\beta]} \\lambda^{\\alpha-1}(1-\\lambda)^{\\beta-1}\n",
    "$$"
   ]
  },
  {
   "cell_type": "code",
   "execution_count": 4,
   "metadata": {},
   "outputs": [],
   "source": [
    "def Beta(𝛼,𝛽):\n",
    "    data_beta = beta.rvs(𝛼, 𝛽, size=1000)\n",
    "    ax = sns.distplot(data_beta,kde=True,color='crimson',hist_kws={\"linewidth\": 25,'alpha':1})\n",
    "    ax.set(xlabel='Beta Distribution', ylabel='Probability')"
   ]
  },
  {
   "cell_type": "code",
   "execution_count": 5,
   "metadata": {},
   "outputs": [
    {
     "data": {
      "application/vnd.jupyter.widget-view+json": {
       "model_id": "d0d9e21584ea492f9a683477ee75f0cf",
       "version_major": 2,
       "version_minor": 0
      },
      "text/plain": [
       "interactive(children=(FloatSlider(value=5.0000001, description='α', max=10.0000001, min=1e-07), FloatSlider(va…"
      ]
     },
     "metadata": {},
     "output_type": "display_data"
    }
   ],
   "source": [
    "interact(Beta, 𝛼=(0.0000001,10.0000001), 𝛽=(0.0000001,10.0000001));"
   ]
  },
  {
   "cell_type": "markdown",
   "metadata": {},
   "source": [
    "# Categorical Distribution\n",
    "* Discrete distribution that determines the probability of observing one of $k$ possible outcomes\n",
    "* The probabilities of observing the $K$ outcomes are held in a $K$ x $1$ parameter vector $\\mathbf{\\lambda} = [\\lambda_1,\\lambda_2,...,\\lambda_k]$ where $\\lambda_k \\in [0,1]$ and $\\sum^k_{k=1} \\lambda_k =1 $\n",
    "* Can be visualised as a normalised histogram with $K$ bins, and can be written as:\n",
    "$$\n",
    "\\operatorname{Pr}(x=k)=\\lambda_{k}\n",
    "$$\n",
    "or:\n",
    "$$\n",
    "\\operatorname{Pr}(x)=\\operatorname{Cat}_{x}[\\boldsymbol{\\lambda}]\n",
    "$$\n",
    "\n",
    "* In CV the intensity data at a pixel is usually quantized into discrete levels and so can be modeled with a categorical distribution."
   ]
  },
  {
   "cell_type": "code",
   "execution_count": 6,
   "metadata": {},
   "outputs": [
    {
     "name": "stdout",
     "output_type": "stream",
     "text": [
      "Initially M: 157 F: 87 Total: 244\n"
     ]
    }
   ],
   "source": [
    "dataset=sns.load_dataset('tips')\n",
    "data = dataset['sex']\n",
    "init_male = data[data=='Male'].count()\n",
    "total = data.count()\n",
    "init_female = data[data=='Female'].count()\n",
    "print(\"Initially M:\",init_male,\"F:\",init_female,\"Total:\",total)"
   ]
  },
  {
   "cell_type": "code",
   "execution_count": 7,
   "metadata": {},
   "outputs": [],
   "source": [
    "def categorical(i, male, female):\n",
    "    if i > male:\n",
    "        difference = i - male\n",
    "        male = i\n",
    "        female = female - difference\n",
    "    else:\n",
    "        difference = male - i\n",
    "        male = i\n",
    "        female = female + difference\n",
    "    mp = male/total\n",
    "    fp = female/total\n",
    "    m = plt.bar('Male',mp, color='g',label='Male')\n",
    "    f = plt.bar('Female',fp, color='r', label='Female')\n",
    "    plt.xlabel('Gender')\n",
    "    plt.ylabel('Probability')\n",
    "    plt.title('Categorical Data')\n",
    "    plt.legend()\n",
    "    plt.tight_layout()\n",
    "    plt.show()\n",
    "    \n",
    "def draw_cat(num_men):\n",
    "    categorical(num_men,init_male,init_female)"
   ]
  },
  {
   "cell_type": "code",
   "execution_count": 8,
   "metadata": {},
   "outputs": [
    {
     "data": {
      "application/vnd.jupyter.widget-view+json": {
       "model_id": "9b4652dadf254492bad35c01e55f43c1",
       "version_major": 2,
       "version_minor": 0
      },
      "text/plain": [
       "interactive(children=(IntSlider(value=122, description='num_men', max=244), Output()), _dom_classes=('widget-i…"
      ]
     },
     "metadata": {},
     "output_type": "display_data"
    }
   ],
   "source": [
    "interact(draw_cat, num_men=(0,244,1));"
   ]
  },
  {
   "cell_type": "markdown",
   "metadata": {},
   "source": [
    "# Dirichlet Distribution\n",
    "* Defined by $K$ continuous values $\\lambda_1 ... \\lambda_k \\text{ where } \\lambda_k \\in [0,1] \\text{ and } \\sum_{k=1}^k \\lambda_k = 1$\n",
    "* Hence it is suitable for **defining a distribution over the parameters of the categorical distribution**\n",
    "* In $K$ dimensions the Dirichlet distribution has $K$ parameters each of which can take an positve values. The relative values of the parameters determine the expected values $E[\\lambda_1]...E[\\lambda_k]$. \n",
    "* The absolute value determines the concentration around the expected value, we write:\n",
    "\n",
    "$$\n",
    "\\operatorname{Pr}\\left(\\lambda_{1 \\ldots K}\\right)=\\frac{\\Gamma\\left[\\sum_{k=1}^{K} \\alpha_{k}\\right]}{\\prod_{k=1}^{K} \\Gamma\\left[\\alpha_{k}\\right]} \\prod_{k=1}^{K} \\lambda_{k}^{\\alpha_{k}-1}\n",
    "$$\n",
    "Or for short:\n",
    "$$\n",
    "\\operatorname{Pr}\\left(\\lambda_{1 \\ldots K}\\right)=\\operatorname{Dir}_{\\lambda_{1} \\ldots K}\\left[\\alpha_{1 \\ldots K}\\right]\n",
    "$$\n",
    "\n",
    "* As the Bernoulli distribution was a special case of the categorical distribution with two possible outcomes, so the beta distribution is a special case of the Dirichlet distribution where the dimensionality is two\n",
    "\n",
    "The majority of the below codeblock is taken from a [Gisthub Repo](https://gist.github.com/agitter/46b2169a035ad25b5d2b024a00344d54) - by Thomas Boggs. It was slightly modified to work with the newer version of python, and the interactive framework."
   ]
  },
  {
   "cell_type": "code",
   "execution_count": 9,
   "metadata": {},
   "outputs": [],
   "source": [
    "'''Functions for drawing contours of Dirichlet distributions.'''\n",
    "\n",
    "# Author: Thomas Boggs\n",
    "\n",
    "_corners = np.array([[0, 0], [1, 0], [0.5, 0.75**0.5]])\n",
    "_triangle = tri.Triangulation(_corners[:, 0], _corners[:, 1])\n",
    "_midpoints = [(_corners[(i + 1) % 3] + _corners[(i + 2) % 3]) / 2.0 for i in range(3)]\n",
    "\n",
    "def xy2bc(xy, tol=1.e-3):\n",
    "    '''Converts 2D Cartesian coordinates to barycentric.\n",
    "\n",
    "    Arguments:\n",
    "\n",
    "        `xy`: A length-2 sequence containing the x and y value.\n",
    "    '''\n",
    "    s = [(_corners[i] - _midpoints[i]).dot(xy - _midpoints[i]) / 0.75 for i in range(3)]\n",
    "    return np.clip(s, tol, 1.0 - tol)\n",
    "\n",
    "class Dirichlet(object):\n",
    "    def __init__(self, alpha):\n",
    "        '''Creates Dirichlet distribution with parameter `alpha`.'''\n",
    "        from math import gamma\n",
    "        from operator import mul\n",
    "        self._alpha = np.array(alpha)\n",
    "        self._coef = gamma(np.sum(self._alpha)) / reduce(mul, [gamma(a) for a in self._alpha])\n",
    "    def pdf(self, x):\n",
    "        '''Returns pdf value for `x`.'''\n",
    "        from operator import mul\n",
    "        return self._coef * reduce(mul, [xx ** (aa - 1) for (xx, aa)in zip(x, self._alpha)])\n",
    "    def sample(self, N):\n",
    "        '''Generates a random sample of size `N`.'''\n",
    "        return np.random.dirichlet(self._alpha, N)\n",
    "\n",
    "def draw_pdf_contours(dist, border=False, nlevels=200, subdiv=8, **kwargs):\n",
    "    '''Draws pdf contours over an equilateral triangle (2-simplex).\n",
    "\n",
    "    Arguments:\n",
    "\n",
    "        `dist`: A distribution instance with a `pdf` method.\n",
    "\n",
    "        `border` (bool): If True, the simplex border is drawn.\n",
    "\n",
    "        `nlevels` (int): Number of contours to draw.\n",
    "\n",
    "        `subdiv` (int): Number of recursive mesh subdivisions to create.\n",
    "\n",
    "        kwargs: Keyword args passed on to `plt.triplot`.\n",
    "    '''\n",
    "\n",
    "    refiner = tri.UniformTriRefiner(_triangle)\n",
    "    trimesh = refiner.refine_triangulation(subdiv=subdiv)\n",
    "    pvals = [dist.pdf(xy2bc(xy)) for xy in zip(trimesh.x, trimesh.y)]\n",
    "\n",
    "    plt.tricontourf(trimesh, pvals, nlevels, **kwargs)\n",
    "    plt.axis('equal')\n",
    "    plt.xlim(0, 1)\n",
    "    plt.ylim(0, 0.75**0.5)\n",
    "    plt.axis('off')\n",
    "    if border is True:\n",
    "#         plt.hold(1)\n",
    "        plt.triplot(_triangle, linewidth=1)\n",
    "\n",
    "def plot_points(X, barycentric=True, border=True, **kwargs):\n",
    "    '''Plots a set of points in the simplex.\n",
    "\n",
    "    Arguments:\n",
    "\n",
    "        `X` (ndarray): A 2xN array (if in Cartesian coords) or 3xN array\n",
    "                       (if in barycentric coords) of points to plot.\n",
    "\n",
    "        `barycentric` (bool): Indicates if `X` is in barycentric coords.\n",
    "\n",
    "        `border` (bool): If True, the simplex border is drawn.\n",
    "\n",
    "        kwargs: Keyword args passed on to `plt.plot`.\n",
    "    '''\n",
    "    if barycentric is True:\n",
    "        X = X.dot(_corners)\n",
    "    plt.plot(X[:, 0], X[:, 1], 'k.', ms=1, **kwargs)\n",
    "    plt.axis('equal')\n",
    "    plt.xlim(0, 1)\n",
    "    plt.ylim(0, 0.75**0.5)\n",
    "    plt.axis('off')\n",
    "    if border is True:\n",
    "#         plt.hold(1)\n",
    "        plt.triplot(_triangle, linewidth=1)\n",
    "\n",
    "\n",
    "def draw_dirichlet(a,b,c):\n",
    "    alphas= [a,b,c]\n",
    "    dist = Dirichlet(alphas)\n",
    "    draw_pdf_contours(dist)\n",
    "    title = r'$\\alpha$ = (%.3f, %.3f, %.3f)' % tuple(alphas)\n",
    "    plt.title(title, fontdict={'fontsize': 8})\n",
    "    plot_points(dist.sample(5000))\n"
   ]
  },
  {
   "cell_type": "code",
   "execution_count": 10,
   "metadata": {},
   "outputs": [
    {
     "data": {
      "application/vnd.jupyter.widget-view+json": {
       "model_id": "db00866ceec54659a0b27aec4cb2ac44",
       "version_major": 2,
       "version_minor": 0
      },
      "text/plain": [
       "interactive(children=(FloatSlider(value=7.5000001, description='a', max=15.0000001, min=1e-07), FloatSlider(va…"
      ]
     },
     "metadata": {},
     "output_type": "display_data"
    }
   ],
   "source": [
    "interact(draw_dirichlet, a=(0.0000001,15.0000001), b=(0.0000001,15.0000001),c=(0.0000001,15.0000001));"
   ]
  },
  {
   "cell_type": "markdown",
   "metadata": {},
   "source": [
    "# Univariate Normal Distribution\n",
    "* Defined on continuous values $x \\in [-inf,inf]$\n",
    "* Two parameters, mean $\\mu$ and the variance $\\sigma^2$\n",
    "* Parameter $\\mu$ can take any value and determines the position of the peak\n",
    "* The parameter $\\sigma^2$ takes only positive values and determines the width of the distribution.\n",
    "\n",
    "Defined as:\n",
    "$$\n",
    "\\operatorname{Pr}(x)=\\frac{1}{\\sqrt{2 \\pi \\sigma^{2}}} \\exp \\left[-0.5(x-\\mu)^{2} / \\sigma^{2}\\right]\n",
    "$$\n",
    "\n",
    "Abbreviate to:\n",
    "$$\n",
    "\\operatorname{Pr}(x)=\\operatorname{Norm}_{x}\\left[\\mu, \\sigma^{2}\\right]\n",
    "$$\n",
    "\n",
    "* In CV it is common to ignore the fact that the intensity of a pixel is quantized and model it with the continuous normal distribution. The world state may also be described by the normal distribution. e.g.: the distance to an object could be represented in this way."
   ]
  },
  {
   "cell_type": "code",
   "execution_count": 11,
   "metadata": {},
   "outputs": [],
   "source": [
    "def univariate_normal(𝜇, var):\n",
    "    value = np.random.normal(loc=𝜇,scale=var,size=1000)\n",
    "    sns.distplot(value)\n",
    "    plt.xlabel(\"Value\")\n",
    "    plt.ylabel(\"Probability\")\n",
    "    plt.title(\"Univariate Normal Distribution\")"
   ]
  },
  {
   "cell_type": "code",
   "execution_count": 12,
   "metadata": {},
   "outputs": [
    {
     "data": {
      "application/vnd.jupyter.widget-view+json": {
       "model_id": "d764844f796e4b388f2b8fe1877ba4a8",
       "version_major": 2,
       "version_minor": 0
      },
      "text/plain": [
       "interactive(children=(IntSlider(value=0, description='μ', min=-100), FloatSlider(value=7.5000001, description=…"
      ]
     },
     "metadata": {},
     "output_type": "display_data"
    }
   ],
   "source": [
    "interact(univariate_normal, 𝜇=(-100,100), var=(0.0000001,15.0000001));"
   ]
  },
  {
   "cell_type": "markdown",
   "metadata": {},
   "source": [
    "# Normal-Scaled Inverse Gamma\n",
    "* Defined over a pair of continuous values $\\mu, \\sigma^2$, the first of which can take any value, the second of which is constrained to be positive\n",
    "* It can define a distribution over the mean and variance parameters of the normal distribution\n",
    "* Four parameters $\\alpha, \\beta, \\gamma, \\delta$ where $\\alpha, \\beta, \\gamma$ are positive real numbers but $\\delta$ can take any value.\n",
    "* Its pdf is:\n",
    "$$\n",
    "\\operatorname{Pr}\\left(\\mu, \\sigma^{2}\\right)=\\frac{\\sqrt{\\gamma}}{\\sigma \\sqrt{2 \\pi}} \\frac{\\beta^{\\alpha}}{\\Gamma[\\alpha]}\\left(\\frac{1}{\\sigma^{2}}\\right)^{\\alpha+1} \\exp \\left[-\\frac{2 \\beta+\\gamma(\\delta-\\mu)^{2}}{2 \\sigma^{2}}\\right]\n",
    "$$\n",
    "\n",
    "For short:\n",
    "$$\n",
    "\\operatorname{Pr}\\left(\\mu, \\sigma^{2}\\right)=\\text { NormInvGam }_{\\mu, \\sigma^{2}}[\\alpha, \\beta, \\gamma, \\delta]\n",
    "$$"
   ]
  },
  {
   "cell_type": "code",
   "execution_count": 13,
   "metadata": {},
   "outputs": [],
   "source": [
    "# mesh\n",
    "def inverse_gamma(𝛼,𝛽):\n",
    "    \"\"\"\n",
    "    According to this http://spencerlyon.com/2015/01/07/canonical-probability-distributions-in-python/\n",
    "    The scale is the beta variable  in the scipy.stats.ingamma distribution\n",
    "    \"\"\"\n",
    "    x = np.linspace(invgamma.ppf(0.01, 𝛼),invgamma.ppf(0.99, 𝛼), 100)\n",
    "    plt.plot(x, invgamma.pdf(x=x,a=𝛼, scale=𝛽),'r-', lw=5, alpha=0.6, label='invgamma pdf')\n",
    "    plt.title(\"Normal-scaled inverse gamma distribution\")\n",
    "    plt.xlabel(\"Mean\")\n",
    "    plt.ylabel(\"Standard Deviation\")\n",
    "    plt.show()"
   ]
  },
  {
   "cell_type": "markdown",
   "metadata": {},
   "source": [
    "This one is a bit weird, I couldn't find a way to accurately represent it with all four parameters"
   ]
  },
  {
   "cell_type": "code",
   "execution_count": 14,
   "metadata": {},
   "outputs": [
    {
     "data": {
      "application/vnd.jupyter.widget-view+json": {
       "model_id": "bf79f2d87c9c46f1893a0ec568b805fd",
       "version_major": 2,
       "version_minor": 0
      },
      "text/plain": [
       "interactive(children=(FloatSlider(value=5.0001, description='α', max=10.0001, min=0.0001), FloatSlider(value=5…"
      ]
     },
     "metadata": {},
     "output_type": "display_data"
    }
   ],
   "source": [
    "interact(inverse_gamma,𝛼=(0.0001,10.0001),𝛽=(0.0001,10.0001));"
   ]
  },
  {
   "cell_type": "code",
   "execution_count": 15,
   "metadata": {},
   "outputs": [],
   "source": [
    "def inverse_gamma(a,b,g,d,var,mean):\n",
    "    \"\"\"\n",
    "    From first principles\n",
    "    \"\"\"\n",
    "    first_term  = math.sqrt(g)/math.sqrt(var)\n",
    "    \n",
    "    sec_term = math.pow(b,a)/gamma.rvs(a)\n",
    "    \n",
    "    third_term = math.pow((1/var),(a+1))\n",
    "    \n",
    "    fourth_term = -((2*b + g*math.pow((d-mean),2))/(2*var))\n",
    "    \n",
    "    return first_term * sec_term * third_term * math.exp(fourth_term)\n",
    "\n",
    "\n",
    "\"\"\"\n",
    "Here I try to mimic what is on page 41 of the textbook\n",
    "\"\"\"\n",
    "x = []\n",
    "y= []\n",
    "val = []\n",
    "for i in range(-5,5):\n",
    "    for j in range(1,5):\n",
    "        x.append(i)\n",
    "        y.append(j)\n",
    "        val.append(inverse_gamma(1,1,1,0,j,i))"
   ]
  },
  {
   "cell_type": "markdown",
   "metadata": {},
   "source": [
    "# Multivariate Normal Distribution\n",
    "* Models $D$-dimensional variables $x$ where each of the $D$ elements $x_1 ... x_D$ is continuous and lies in the range $[-\\infin,+\\infin]$\n",
    "* The univariate normal is a special case of the multivariate normal, where the number of elements of $D$ is one. \n",
    "* Has two parameters, mean $\\mu$ and covariance $\\Sigma$.\n",
    "* $\\mu$ is a $D$ x $1$ vector that describes the mean of the distribution.\n",
    "$\\Sigma$ is a symmetric $D$ x $D$ positive definite matrix so that $z^T\\Sigma z$ is positive for any real vector $z$.\n",
    "* The PDF is as follows:\n",
    "$$\n",
    "\\operatorname{Pr}(\\mathbf{x})=\\frac{1}{(2 \\pi)^{D / 2}|\\boldsymbol{\\Sigma}|^{1 / 2}} \\exp \\left[-0.5(\\mathbf{x}-\\boldsymbol{\\mu})^{T} \\boldsymbol{\\Sigma}^{-1}(\\mathbf{x}-\\boldsymbol{\\mu})\\right]\n",
    "$$\n",
    "\n",
    "Or for short:\n",
    "$$\n",
    "Pr(x) = Norm_x[\\mu,\\Sigma]\n",
    "$$\n",
    "\n",
    "* In CV the multivariate normal might model the joint distribution of the intensities of $D$ pixels within a region of the image. The state of the world might also be described by this distribution. E.g.: the multivariate normal might describe the joint uncertainty in the 3D position $(x,y,z)$ of an object in the scene.\n",
    "\n",
    "The following codeblock is based on of this very helpful [blogpost](https://peterroelants.github.io/posts/multivariate-normal-primer/) by Peter Roelants"
   ]
  },
  {
   "cell_type": "code",
   "execution_count": 16,
   "metadata": {},
   "outputs": [],
   "source": [
    "def multivariate_normal(x, d, mean, covariance):\n",
    "    \"\"\"pdf of the multivariate normal distribution.\"\"\"\n",
    "    x_m = x - mean\n",
    "    return (1. / (np.sqrt((2 * np.pi)**d * np.linalg.det(covariance))) * \n",
    "            np.exp(-(np.linalg.solve(covariance, x_m).T.dot(x_m)) / 2))"
   ]
  },
  {
   "cell_type": "code",
   "execution_count": 17,
   "metadata": {},
   "outputs": [],
   "source": [
    "def generate_surface(mean, covariance, d):\n",
    "    \"\"\"Helper function to generate density surface.\"\"\"\n",
    "    nb_of_x = 100 # grid size\n",
    "    x1s = np.linspace(-5, 5, num=nb_of_x)\n",
    "    x2s = np.linspace(-5, 5, num=nb_of_x)\n",
    "    x1, x2 = np.meshgrid(x1s, x2s) # Generate grid\n",
    "    pdf = np.zeros((nb_of_x, nb_of_x))\n",
    "    # Fill the cost matrix for each combination of weights\n",
    "    for i in range(nb_of_x):\n",
    "        for j in range(nb_of_x):\n",
    "            pdf[i,j] = multivariate_normal(\n",
    "                np.matrix([[x1[i,j]], [x2[i,j]]]), \n",
    "                d, mean, covariance)\n",
    "    return x1, x2, pdf  # x1, x2, pdf(x1,x2)\n",
    "\n",
    "\n",
    "def draw_multi(mean):\n",
    "    # subplot\n",
    "    fig, (ax1, ax2) = plt.subplots(nrows=1, ncols=2, figsize=(8,4))\n",
    "    d = 2  # number of dimensions\n",
    "\n",
    "    # Plot of independent Normals\n",
    "    bivariate_mean = np.matrix([[mean], [mean]])  # Mean\n",
    "    bivariate_covariance = np.matrix([\n",
    "        [1., 0.], \n",
    "        [0., 1.]])  # Covariance\n",
    "    x1, x2, p = generate_surface(\n",
    "        bivariate_mean, bivariate_covariance, d)\n",
    "    # Plot bivariate distribution\n",
    "    con = ax1.contourf(x1, x2, p, 100, cmap=cm.YlGnBu)\n",
    "    ax1.set_xlabel('$x_1$', fontsize=13)\n",
    "    ax1.set_ylabel('$x_2$', fontsize=13)\n",
    "    ax1.axis([-2.5, 2.5, -2.5, 2.5])\n",
    "    ax1.set_aspect('equal')\n",
    "    ax1.set_title('Independent variables', fontsize=12)\n",
    "\n",
    "    # Plot of correlated Normals\n",
    "    bivariate_mean = np.matrix([[0.], [mean]])  # Mean\n",
    "    bivariate_covariance = np.matrix([\n",
    "        [1., 0.8], \n",
    "        [0.8, 1.]])  # Covariance\n",
    "    x1, x2, p = generate_surface(\n",
    "        bivariate_mean, bivariate_covariance, d)\n",
    "    # Plot bivariate distribution\n",
    "    con = ax2.contourf(x1, x2, p, 100, cmap=cm.YlGnBu)\n",
    "    ax2.set_xlabel('$x_1$', fontsize=13)\n",
    "    ax2.set_ylabel('$x_2$', fontsize=13)\n",
    "    ax2.axis([-2.5, 2.5, -1.5, 3.5])\n",
    "    ax2.set_aspect('equal')\n",
    "    ax2.set_title('Correlated variables', fontsize=12)\n",
    "\n",
    "    # Add colorbar and title\n",
    "    fig.subplots_adjust(right=0.8)\n",
    "    cbar_ax = fig.add_axes([0.85, 0.15, 0.02, 0.7])\n",
    "    cbar = fig.colorbar(con, cax=cbar_ax)\n",
    "    cbar.ax.set_ylabel('$p(x_1, x_2)$', fontsize=13)\n",
    "    plt.suptitle('Bivariate normal distributions', fontsize=13, y=0.95)\n",
    "    plt.show()"
   ]
  },
  {
   "cell_type": "markdown",
   "metadata": {},
   "source": [
    "Need to consider how to draw with different covariances"
   ]
  },
  {
   "cell_type": "code",
   "execution_count": 18,
   "metadata": {},
   "outputs": [
    {
     "data": {
      "application/vnd.jupyter.widget-view+json": {
       "model_id": "5a799ae6038d408f957e0db27471210d",
       "version_major": 2,
       "version_minor": 0
      },
      "text/plain": [
       "interactive(children=(IntSlider(value=0, description='mean', max=2, min=-2), Output()), _dom_classes=('widget-…"
      ]
     },
     "metadata": {},
     "output_type": "display_data"
    }
   ],
   "source": [
    "# use a,b,c and in the covariance matrix and then that should rotate and flex out \n",
    "interact(draw_multi,mean=(-2,2));"
   ]
  },
  {
   "cell_type": "markdown",
   "metadata": {},
   "source": [
    "# Normal Inverse Wishart Distribution\n",
    "* Define a distribution over a $D \\text{ x } 1$ vector $\\mu$ and a $D \\text{ x } D$ positive definite matrix $\\Sigma$\n",
    "* Suitable for describing uncertainty in the parameters of a multivariate normal distribution\n",
    "* Has four parameters $\\alpha, \\Psi, \\gamma, \\delta$, where $\\alpha$ and $\\gamma$ are positive scalars, $\\delta$ is a $D$ x $1$ vector and $\\Psi$ is a positive definite $D$ x $D$ matrix. \n",
    "\n",
    "$$\n",
    "\\operatorname{Pr}(\\boldsymbol{\\mu}, \\boldsymbol{\\Sigma})=\\frac{\\gamma^{D / 2}|\\boldsymbol{\\Psi}|^{\\alpha / 2} \\exp \\left[-0.5\\left(\\operatorname{Tr}\\left[\\boldsymbol{\\Psi} \\boldsymbol{\\Sigma}^{-1}\\right]+\\gamma(\\boldsymbol{\\mu}-\\boldsymbol{\\delta})^{T} \\boldsymbol{\\Sigma}^{-1}(\\boldsymbol{\\mu}-\\boldsymbol{\\delta})\\right)\\right]}{2^{\\alpha D / 2}(2 \\pi)^{D / 2}|\\mathbf{\\Sigma}|^{(\\alpha+D+2) / 2} \\Gamma_{D}[\\alpha / 2]}\n",
    "$$\n",
    "\n",
    "Where $\\Gamma_d[]$ is the multivariate gamma function and $Tr[\\Psi]$ returns the trace of the matrix $\\Psi$, for short we write:\n",
    "$$\n",
    "Pr(\\mu, \\Sigma) = NorIWis_{\\mu,\\Sigma}[\\alpha, \\Psi, \\gamma, \\delta]\n",
    "$$\n",
    "\n",
    "* This is opaque. However, it is a function that produces a positive value for any valid mean vector $\\mu$ and covariance matrix $\\Sigma$, such that when we integrate over all possible values of $\\mu$ and $\\Sigma$ the answer is one\n",
    "\n",
    "* It is hard to visualize, but easy to draw samples and examine them. Each sample is the mean and covariance of a normal distribution.\n",
    "\n",
    "* [This resource](https://datamicroscopes.github.io/niw.html) goes through how one can use it to learn the underlying parameters of a dataset.\n",
    "\n",
    "Below simply shows how the inverse gamma and inverse wishart distribution are similar:"
   ]
  },
  {
   "cell_type": "code",
   "execution_count": 19,
   "metadata": {},
   "outputs": [
    {
     "data": {
      "image/png": "[encoded data removed]",
      "text/plain": [
       "<Figure size 432x288 with 1 Axes>"
      ]
     },
     "metadata": {
      "needs_background": "light"
     },
     "output_type": "display_data"
    },
    {
     "name": "stdout",
     "output_type": "stream",
     "text": [
      "The first three data points of each\n",
      "Wishart: [1.20546865e-15 5.42497807e-06 4.45813929e-03]\n",
      "Gamma: [1.20546865e-15 5.42497807e-06 4.45813929e-03]\n"
     ]
    }
   ],
   "source": [
    "x = np.linspace(0.01, 1, 100)\n",
    "iw = invwishart.pdf(x, df=6, scale=1)\n",
    "ig = invgamma.pdf(x, 6/2., scale=1./2)\n",
    "plt.plot(x, iw,label=\"Inverse Wishart\")\n",
    "plt.plot(x,ig,'-r',label=\"Inverse Gamma\",alpha=0.3)\n",
    "plt.legend()\n",
    "plt.title(\"Similarities between Inverse Wishart & Gamma\")\n",
    "plt.show()\n",
    "print(\"The first three data points of each\")\n",
    "print(\"Wishart:\",iw[:3])\n",
    "print(\"Gamma:\",ig[:3])"
   ]
  },
  {
   "cell_type": "code",
   "execution_count": null,
   "metadata": {},
   "outputs": [],
   "source": []
  }
 ],
 "metadata": {
  "kernelspec": {
   "display_name": "coms4036",
   "language": "python",
   "name": "coms4036"
  },
  "language_info": {
   "codemirror_mode": {
    "name": "ipython",
    "version": 3
   },
   "file_extension": ".py",
   "mimetype": "text/x-python",
   "name": "python",
   "nbconvert_exporter": "python",
   "pygments_lexer": "ipython3",
   "version": "3.7.3"
  }
 },
 "nbformat": 4,
 "nbformat_minor": 2
}
