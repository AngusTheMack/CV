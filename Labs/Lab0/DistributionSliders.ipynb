{
 "cells": [
  {
   "cell_type": "markdown",
   "metadata": {},
   "source": [
    "# Bonus Bonus\n",
    "Make sliders that change the parameter values of the distributions in order to visualise their effects\n",
    "\n",
    "* Bernoulli Distribution\n",
    "* Beta Distribution\n",
    "* Categorical Distribution\n",
    "* Dirichlet Distribution\n",
    "* Univariate Normal Distribution\n",
    "* Normal-scaled inverse gamma distribution\n",
    "* Multivariate Normal distribution\n",
    "* Normal inverse wishart distribution"
   ]
  },
  {
   "cell_type": "code",
   "execution_count": 7,
   "metadata": {},
   "outputs": [],
   "source": [
    "from scipy.stats import bernoulli, beta, dirichlet\n",
    "from ipywidgets import interact, interactive, fixed, interact_manual\n",
    "import ipywidgets as widgets\n",
    "import seaborn as sns\n",
    "import numpy as np\n",
    "import matplotlib.pyplot as plt"
   ]
  },
  {
   "cell_type": "markdown",
   "metadata": {},
   "source": [
    "# Bernoulli Distribution\n",
    "* Discrete\n",
    "* Models binary trials\n",
    "* Describes the situation where there are only two possible outcomes\n",
    "* $x \\in {0,1}$\n",
    "* Single parameter, $\\lambda$ which defines the probability of observing a success $x=1$\n",
    "\n",
    "Can be expressed as:\n",
    "$$\n",
    "\\begin{array}{l}{\\operatorname{Pr}(x=0)=1-\\lambda} \\\\ {\\operatorname{Pr}(x=1)=\\lambda}\\end{array}\n",
    "$$\n",
    "\n",
    "Or alternatively:\n",
    "$$\n",
    "\\operatorname{Pr}(x)=\\lambda^{x}(1-\\lambda)^{1-x}\n",
    "$$\n",
    "\n",
    "Or:\n",
    "$$\n",
    "\\operatorname{Pr}(x)=\\operatorname{Bern}_{x}[\\lambda]\n",
    "$$"
   ]
  },
  {
   "cell_type": "code",
   "execution_count": 14,
   "metadata": {},
   "outputs": [],
   "source": [
    "def bern(𝜆):\n",
    "    data_bern = bernoulli.rvs(size=1000,p=𝜆)\n",
    "    ax = sns.distplot(data_bern,kde=True,color='crimson',hist_kws={\"linewidth\": 25,'alpha':1})\n",
    "    ax.set(xlabel='Bernoulli', ylabel='Frequency')"
   ]
  },
  {
   "cell_type": "code",
   "execution_count": 16,
   "metadata": {},
   "outputs": [
    {
     "data": {
      "application/vnd.jupyter.widget-view+json": {
       "model_id": "d09c38e5a2f64a2995ea2dbcf6eab32e",
       "version_major": 2,
       "version_minor": 0
      },
      "text/plain": [
       "interactive(children=(FloatSlider(value=0.0, description='λ', max=1.0, step=0.01), Output()), _dom_classes=('w…"
      ]
     },
     "metadata": {},
     "output_type": "display_data"
    }
   ],
   "source": [
    "interact(bern, 𝜆=(0,1,0.01));"
   ]
  },
  {
   "cell_type": "markdown",
   "metadata": {},
   "source": [
    "# Beta Distribution\n",
    "* Continuous distribution defined on single variable 𝜆 where $\\lambda \\in [0,1]$\n",
    "* Used for representing uncertainty in the parameter $\\lambda$ of the Bernoulli distribution\n",
    "* Has parameters $(\\alpha, \\beta)$ whose values determine the expected value so $$\n",
    "\\mathrm{E}[\\lambda]=\\alpha /(\\alpha+\\beta)\n",
    "$$\n",
    "* $\\alpha, \\beta \\in [0,∞]$\n",
    "\n",
    "Beta distribution is represented as:\n",
    "$$\n",
    "\\operatorname{Pr}(\\lambda)=\\frac{\\Gamma[\\alpha+\\beta]}{\\Gamma[\\alpha] \\Gamma[\\beta]} \\lambda^{\\alpha-1}(1-\\lambda)^{\\beta-1}\n",
    "$$"
   ]
  },
  {
   "cell_type": "code",
   "execution_count": 23,
   "metadata": {},
   "outputs": [],
   "source": [
    "def Beta(𝛼,𝛽):\n",
    "    data_beta = beta.rvs(𝛼, 𝛽, size=1000)\n",
    "    ax = sns.distplot(data_beta,kde=True,color='crimson',hist_kws={\"linewidth\": 25,'alpha':1})\n",
    "    ax.set(xlabel='Beta Distribution', ylabel='Probability')"
   ]
  },
  {
   "cell_type": "code",
   "execution_count": 24,
   "metadata": {},
   "outputs": [
    {
     "data": {
      "application/vnd.jupyter.widget-view+json": {
       "model_id": "79589ab772e14b128eb26e5f8cc62df8",
       "version_major": 2,
       "version_minor": 0
      },
      "text/plain": [
       "interactive(children=(IntSlider(value=5, description='α', max=10), IntSlider(value=5, description='β', max=10)…"
      ]
     },
     "metadata": {},
     "output_type": "display_data"
    }
   ],
   "source": [
    "interact(Beta, 𝛼=(0,10), 𝛽=(0,10));"
   ]
  },
  {
   "cell_type": "code",
   "execution_count": null,
   "metadata": {},
   "outputs": [],
   "source": [
    "# def categorical(a):\n",
    "#     data_cat = np.random.multinomial(20, [1/float(a)]*a, size=1)\n",
    "#     ax = sns.distplot(data_cat,kde=True,color='crimson',hist_kws={\"linewidth\": 25,'alpha':1})\n",
    "#     ax.set(xlabel='Categorical', ylabel='Frequency')\n",
    "\n",
    "# def Dirichlet(a):\n",
    "#     data_dir = dirichlet.rvs(1,size=1000)\n",
    "#     ax = sns.distplot(data_dir,kde=True,color='crimson',hist_kws={\"linewidth\": 25,'alpha':1})\n",
    "#     ax.set(xlabel='Dirichlet', ylabel='Frequency')"
   ]
  },
  {
   "cell_type": "code",
   "execution_count": null,
   "metadata": {},
   "outputs": [],
   "source": [
    "import matplotlib.tri as tri\n",
    "\n",
    "_corners = np.array([[0, 0], [1, 0], [0.5, 0.75**0.5]])\n",
    "_triangle = tri.Triangulation(_corners[:, 0], _corners[:, 1])\n",
    "_midpoints = [(_corners[(i + 1) % 3] + _corners[(i + 2) % 3]) / 2.0 for i in range(3)]\n",
    "\n",
    "def xy2bc(xy, tol=1.e-3):\n",
    "    '''\n",
    "    Converts 2D Cartesian coordinates to barycentric.\n",
    "    Arguments:\n",
    "    `xy`: A length-2 sequence containing the x and y value.\n",
    "    '''\n",
    "    s = [(_corners[i] - _midpoints[i]).dot(xy - _midpoints[i]) / 0.75 for i in range(3)]\n",
    "    return np.clip(s, tol, 1.0 - tol)\n",
    "\n",
    "def use_draw(a,b,c):\n",
    "    alpha = np.array([a,b,c])\n",
    "    draw_pdf_contours(dirichlet(alpha))\n",
    "    \n",
    "class Dirichlet(object):\n",
    "    def __init__(self, alpha):\n",
    "        '''Creates Dirichlet distribution with parameter `alpha`.'''\n",
    "        from math import gamma\n",
    "        from operator import mul\n",
    "        self._alpha = np.array(alpha)\n",
    "        self._coef = gamma(np.sum(self._alpha)) / reduce(mul, [gamma(a) for a in self._alpha])\n",
    "        \n",
    "    def pdf(self, x):\n",
    "        '''Returns pdf value for `x`.'''\n",
    "        from operator import mul\n",
    "        return self._coef * reduce(mul, [xx ** (aa - 1)\n",
    "                                         for (xx, aa)in zip(x, self._alpha)])\n",
    "    def sample(self, N):\n",
    "        '''Generates a random sample of size `N`.'''\n",
    "        return np.random.dirichlet(self._alpha, N)\n",
    "    \n",
    "def draw_pdf_contours(dist, border=False, nlevels=200, subdiv=8, **kwargs):\n",
    "    '''Draws pdf contours over an equilateral triangle (2-simplex).\n",
    "    Arguments:\n",
    "        `dist`: A distribution instance with a `pdf` method.\n",
    "        `border` (bool): If True, the simplex border is drawn.\n",
    "        `nlevels` (int): Number of contours to draw.\n",
    "        `subdiv` (int): Number of recursive mesh subdivisions to create.\n",
    "        kwargs: Keyword args passed on to `plt.triplot`.\n",
    "    '''\n",
    "    from matplotlib import ticker, cm\n",
    "    import math\n",
    "\n",
    "    refiner = tri.UniformTriRefiner(_triangle)\n",
    "    trimesh = refiner.refine_triangulation(subdiv=subdiv)\n",
    "    pvals = [dist.pdf(xy2bc(xy)) for xy in zip(trimesh.x, trimesh.y)]\n",
    "\n",
    "    plt.tricontourf(trimesh, pvals, nlevels, **kwargs)\n",
    "    plt.axis('equal')\n",
    "    plt.xlim(0, 1)\n",
    "    plt.ylim(0, 0.75**0.5)\n",
    "    plt.axis('off')\n",
    "    if border is True:\n",
    "        plt.hold(1)\n",
    "        plt.triplot(_triangle, linewidth=1)\n",
    "\n",
    "def plot_points(X, barycentric=True, border=True, **kwargs):\n",
    "    '''Plots a set of points in the simplex.\n",
    "    Arguments:\n",
    "        `X` (ndarray): A 2xN array (if in Cartesian coords) or 3xN array\n",
    "                       (if in barycentric coords) of points to plot.\n",
    "        `barycentric` (bool): Indicates if `X` is in barycentric coords.\n",
    "        `border` (bool): If True, the simplex border is drawn.\n",
    "        kwargs: Keyword args passed on to `plt.plot`.\n",
    "    '''\n",
    "    if barycentric is True:\n",
    "        X = X.dot(_corners)\n",
    "    plt.plot(X[:, 0], X[:, 1], 'k.', ms=1, **kwargs)\n",
    "    plt.axis('equal')\n",
    "    plt.xlim(0, 1)\n",
    "    plt.ylim(0, 0.75**0.5)\n",
    "    plt.axis('off')\n",
    "    if border is True:\n",
    "        plt.hold(1)\n",
    "        plt.triplot(_triangle, linewidth=1)"
   ]
  }
 ],
 "metadata": {
  "kernelspec": {
   "display_name": "coms4036",
   "language": "python",
   "name": "coms4036"
  },
  "language_info": {
   "codemirror_mode": {
    "name": "ipython",
    "version": 3
   },
   "file_extension": ".py",
   "mimetype": "text/x-python",
   "name": "python",
   "nbconvert_exporter": "python",
   "pygments_lexer": "ipython3",
   "version": "3.7.3"
  }
 },
 "nbformat": 4,
 "nbformat_minor": 2
}
