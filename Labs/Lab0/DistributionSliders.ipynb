{
 "cells": [
  {
   "cell_type": "markdown",
   "metadata": {},
   "source": [
    "# Bonus Bonus\n",
    "Make sliders that change the parameter values of the distributions in order to visualise their effects\n",
    "\n",
    "* Bernoulli Distribution\n",
    "* Beta Distribution\n",
    "* Categorical Distribution\n",
    "* Dirichlet Distribution\n",
    "* Univariate Normal Distribution\n",
    "* Normal-scaled inverse gamma distribution\n",
    "* Multivariate Normal distribution\n",
    "* Normal inverse wishart distribution"
   ]
  },
  {
   "cell_type": "code",
   "execution_count": 46,
   "metadata": {},
   "outputs": [],
   "source": [
    "from scipy.stats import bernoulli, beta, dirichlet\n",
    "from ipywidgets import interact, interactive, fixed, interact_manual\n",
    "import ipywidgets as widgets\n",
    "import seaborn as sns\n",
    "import numpy as np\n",
    "import math\n",
    "import matplotlib.pyplot as plt"
   ]
  },
  {
   "cell_type": "markdown",
   "metadata": {},
   "source": [
    "# Bernoulli Distribution\n",
    "* Discrete\n",
    "* Models binary trials\n",
    "* Describes the situation where there are only two possible outcomes\n",
    "* $x \\in {0,1}$\n",
    "* Single parameter, $\\lambda$ which defines the probability of observing a success $x=1$\n",
    "\n",
    "Can be expressed as:\n",
    "$$\n",
    "\\begin{array}{l}{\\operatorname{Pr}(x=0)=1-\\lambda} \\\\ {\\operatorname{Pr}(x=1)=\\lambda}\\end{array}\n",
    "$$\n",
    "\n",
    "Or alternatively:\n",
    "$$\n",
    "\\operatorname{Pr}(x)=\\lambda^{x}(1-\\lambda)^{1-x}\n",
    "$$\n",
    "\n",
    "Or:\n",
    "$$\n",
    "\\operatorname{Pr}(x)=\\operatorname{Bern}_{x}[\\lambda]\n",
    "$$"
   ]
  },
  {
   "cell_type": "code",
   "execution_count": 2,
   "metadata": {},
   "outputs": [],
   "source": [
    "def bern(𝜆):\n",
    "    data_bern = bernoulli.rvs(size=1000,p=𝜆)\n",
    "    ax = sns.distplot(data_bern,kde=True,color='crimson',hist_kws={\"linewidth\": 25,'alpha':1})\n",
    "    ax.set(xlabel='Bernoulli', ylabel='Frequency')"
   ]
  },
  {
   "cell_type": "code",
   "execution_count": 3,
   "metadata": {},
   "outputs": [
    {
     "data": {
      "application/vnd.jupyter.widget-view+json": {
       "model_id": "fe3a7f0e1a624ab6bc3b2a84e00579a8",
       "version_major": 2,
       "version_minor": 0
      },
      "text/plain": [
       "interactive(children=(FloatSlider(value=0.0, description='λ', max=1.0, step=0.01), Output()), _dom_classes=('w…"
      ]
     },
     "metadata": {},
     "output_type": "display_data"
    }
   ],
   "source": [
    "interact(bern, 𝜆=(0,1,0.01));"
   ]
  },
  {
   "cell_type": "markdown",
   "metadata": {},
   "source": [
    "# Beta Distribution\n",
    "* Continuous distribution defined on single variable 𝜆 where $\\lambda \\in [0,1]$\n",
    "* Used for representing uncertainty in the parameter $\\lambda$ of the Bernoulli distribution\n",
    "* Has parameters $(\\alpha, \\beta)$ whose values determine the expected value so $$\n",
    "\\mathrm{E}[\\lambda]=\\alpha /(\\alpha+\\beta)\n",
    "$$\n",
    "* $\\alpha, \\beta \\in (0,∞)$\n",
    "\n",
    "Beta distribution is represented as:\n",
    "$$\n",
    "\\operatorname{Pr}(\\lambda)=\\frac{\\Gamma[\\alpha+\\beta]}{\\Gamma[\\alpha] \\Gamma[\\beta]} \\lambda^{\\alpha-1}(1-\\lambda)^{\\beta-1}\n",
    "$$"
   ]
  },
  {
   "cell_type": "code",
   "execution_count": 4,
   "metadata": {},
   "outputs": [],
   "source": [
    "def Beta(𝛼,𝛽):\n",
    "    data_beta = beta.rvs(𝛼, 𝛽, size=1000)\n",
    "    ax = sns.distplot(data_beta,kde=True,color='crimson',hist_kws={\"linewidth\": 25,'alpha':1})\n",
    "    ax.set(xlabel='Beta Distribution', ylabel='Probability')"
   ]
  },
  {
   "cell_type": "code",
   "execution_count": 5,
   "metadata": {},
   "outputs": [
    {
     "data": {
      "application/vnd.jupyter.widget-view+json": {
       "model_id": "e3c09cc93a8e47368dd9f1b05c6b7213",
       "version_major": 2,
       "version_minor": 0
      },
      "text/plain": [
       "interactive(children=(FloatSlider(value=5.0000001, description='α', max=10.0000001, min=1e-07), FloatSlider(va…"
      ]
     },
     "metadata": {},
     "output_type": "display_data"
    }
   ],
   "source": [
    "interact(Beta, 𝛼=(0.0000001,10.0000001), 𝛽=(0.0000001,10.0000001));"
   ]
  },
  {
   "cell_type": "markdown",
   "metadata": {},
   "source": [
    "# Categorical Distribution\n",
    "* Discrete distribution that determines the probability of observing one of $k$ possible outcomes\n",
    "* The probabilities of observing the $K$ outcomes are held in a $K$ x $1$ parameter vector $\\mathbf{\\lambda} = [\\lambda_1,\\lambda_2,...,\\lambda_k]$ where $\\lambda_k \\in [0,1]$ and $\\sum^k_{k=1} \\lambda_k =1 $\n",
    "* Can be visualised as a normalised histogram with $K$ bins, and can be written as:\n",
    "$$\n",
    "\\operatorname{Pr}(x=k)=\\lambda_{k}\n",
    "$$\n",
    "or:\n",
    "$$\n",
    "\\operatorname{Pr}(x)=\\operatorname{Cat}_{x}[\\boldsymbol{\\lambda}]\n",
    "$$"
   ]
  },
  {
   "cell_type": "code",
   "execution_count": 6,
   "metadata": {},
   "outputs": [
    {
     "name": "stdout",
     "output_type": "stream",
     "text": [
      "Initially M: 157 F: 87 Total: 244\n"
     ]
    }
   ],
   "source": [
    "dataset=sns.load_dataset('tips')\n",
    "data = dataset['sex']\n",
    "init_male = data[data=='Male'].count()\n",
    "total = data.count()\n",
    "init_female = data[data=='Female'].count()\n",
    "print(\"Initially M:\",init_male,\"F:\",init_female,\"Total:\",total)"
   ]
  },
  {
   "cell_type": "code",
   "execution_count": 7,
   "metadata": {},
   "outputs": [],
   "source": [
    "def categorical(i, male, female):\n",
    "    if i > male:\n",
    "        difference = i - male\n",
    "        male = i\n",
    "        female = female - difference\n",
    "    else:\n",
    "        difference = male - i\n",
    "        male = i\n",
    "        female = female + difference\n",
    "    mp = male/total\n",
    "    fp = female/total\n",
    "    m = plt.bar('Male',mp, color='g',label='Male')\n",
    "    f = plt.bar('Female',fp, color='r', label='Female')\n",
    "    plt.xlabel('Gender')\n",
    "    plt.ylabel('Probability')\n",
    "    plt.title('Categorical Data')\n",
    "    plt.legend()\n",
    "    plt.tight_layout()\n",
    "    plt.show()\n",
    "    \n",
    "def draw_cat(num_men):\n",
    "    categorical(num_men,init_male,init_female)"
   ]
  },
  {
   "cell_type": "code",
   "execution_count": 8,
   "metadata": {},
   "outputs": [
    {
     "data": {
      "application/vnd.jupyter.widget-view+json": {
       "model_id": "a31628b368274914b130d9d6bcb97b83",
       "version_major": 2,
       "version_minor": 0
      },
      "text/plain": [
       "interactive(children=(IntSlider(value=122, description='num_men', max=244), Output()), _dom_classes=('widget-i…"
      ]
     },
     "metadata": {},
     "output_type": "display_data"
    }
   ],
   "source": [
    "interact(draw_cat, num_men=(0,244,1));"
   ]
  },
  {
   "cell_type": "code",
   "execution_count": 41,
   "metadata": {},
   "outputs": [],
   "source": [
    "'''Functions for drawing contours of Dirichlet distributions.'''\n",
    "\n",
    "# Author: Thomas Boggs\n",
    "\n",
    "import numpy as np\n",
    "import matplotlib.pyplot as plt\n",
    "import matplotlib.tri as tri\n",
    "from functools import reduce\n",
    "\n",
    "_corners = np.array([[0, 0], [1, 0], [0.5, 0.75**0.5]])\n",
    "_triangle = tri.Triangulation(_corners[:, 0], _corners[:, 1])\n",
    "_midpoints = [(_corners[(i + 1) % 3] + _corners[(i + 2) % 3]) / 2.0 for i in range(3)]\n",
    "\n",
    "def xy2bc(xy, tol=1.e-3):\n",
    "    '''Converts 2D Cartesian coordinates to barycentric.\n",
    "\n",
    "    Arguments:\n",
    "\n",
    "        `xy`: A length-2 sequence containing the x and y value.\n",
    "    '''\n",
    "    s = [(_corners[i] - _midpoints[i]).dot(xy - _midpoints[i]) / 0.75 for i in range(3)]\n",
    "    return np.clip(s, tol, 1.0 - tol)\n",
    "\n",
    "class Dirichlet(object):\n",
    "    def __init__(self, alpha):\n",
    "        '''Creates Dirichlet distribution with parameter `alpha`.'''\n",
    "        from math import gamma\n",
    "        from operator import mul\n",
    "        self._alpha = np.array(alpha)\n",
    "        self._coef = gamma(np.sum(self._alpha)) / reduce(mul, [gamma(a) for a in self._alpha])\n",
    "    def pdf(self, x):\n",
    "        '''Returns pdf value for `x`.'''\n",
    "        from operator import mul\n",
    "        return self._coef * reduce(mul, [xx ** (aa - 1) for (xx, aa)in zip(x, self._alpha)])\n",
    "    def sample(self, N):\n",
    "        '''Generates a random sample of size `N`.'''\n",
    "        return np.random.dirichlet(self._alpha, N)\n",
    "\n",
    "def draw_pdf_contours(dist, border=False, nlevels=200, subdiv=8, **kwargs):\n",
    "    '''Draws pdf contours over an equilateral triangle (2-simplex).\n",
    "\n",
    "    Arguments:\n",
    "\n",
    "        `dist`: A distribution instance with a `pdf` method.\n",
    "\n",
    "        `border` (bool): If True, the simplex border is drawn.\n",
    "\n",
    "        `nlevels` (int): Number of contours to draw.\n",
    "\n",
    "        `subdiv` (int): Number of recursive mesh subdivisions to create.\n",
    "\n",
    "        kwargs: Keyword args passed on to `plt.triplot`.\n",
    "    '''\n",
    "    from matplotlib import ticker, cm\n",
    "    import math\n",
    "\n",
    "    refiner = tri.UniformTriRefiner(_triangle)\n",
    "    trimesh = refiner.refine_triangulation(subdiv=subdiv)\n",
    "    pvals = [dist.pdf(xy2bc(xy)) for xy in zip(trimesh.x, trimesh.y)]\n",
    "\n",
    "    plt.tricontourf(trimesh, pvals, nlevels, **kwargs)\n",
    "    plt.axis('equal')\n",
    "    plt.xlim(0, 1)\n",
    "    plt.ylim(0, 0.75**0.5)\n",
    "    plt.axis('off')\n",
    "    if border is True:\n",
    "#         plt.hold(1)\n",
    "        plt.triplot(_triangle, linewidth=1)\n",
    "\n",
    "def plot_points(X, barycentric=True, border=True, **kwargs):\n",
    "    '''Plots a set of points in the simplex.\n",
    "\n",
    "    Arguments:\n",
    "\n",
    "        `X` (ndarray): A 2xN array (if in Cartesian coords) or 3xN array\n",
    "                       (if in barycentric coords) of points to plot.\n",
    "\n",
    "        `barycentric` (bool): Indicates if `X` is in barycentric coords.\n",
    "\n",
    "        `border` (bool): If True, the simplex border is drawn.\n",
    "\n",
    "        kwargs: Keyword args passed on to `plt.plot`.\n",
    "    '''\n",
    "    if barycentric is True:\n",
    "        X = X.dot(_corners)\n",
    "    plt.plot(X[:, 0], X[:, 1], 'k.', ms=1, **kwargs)\n",
    "    plt.axis('equal')\n",
    "    plt.xlim(0, 1)\n",
    "    plt.ylim(0, 0.75**0.5)\n",
    "    plt.axis('off')\n",
    "    if border is True:\n",
    "#         plt.hold(1)\n",
    "        plt.triplot(_triangle, linewidth=1)\n",
    "\n",
    "\n",
    "def draw_dirichlet(a,b,c):\n",
    "    alphas= [a,b,c]\n",
    "    dist = Dirichlet(alphas)\n",
    "    draw_pdf_contours(dist)\n",
    "    title = r'$\\alpha$ = (%.3f, %.3f, %.3f)' % tuple(alphas)\n",
    "    plt.title(title, fontdict={'fontsize': 8})\n",
    "    plot_points(dist.sample(5000))\n"
   ]
  },
  {
   "cell_type": "code",
   "execution_count": 43,
   "metadata": {},
   "outputs": [
    {
     "data": {
      "application/vnd.jupyter.widget-view+json": {
       "model_id": "2a3543fb3aa5455787309514e2ed64f4",
       "version_major": 2,
       "version_minor": 0
      },
      "text/plain": [
       "interactive(children=(FloatSlider(value=7.5000001, description='a', max=15.0000001, min=1e-07), FloatSlider(va…"
      ]
     },
     "metadata": {},
     "output_type": "display_data"
    }
   ],
   "source": [
    "interact(draw_dirichlet, a=(0.0000001,15.0000001), b=(0.0000001,15.0000001),c=(0.0000001,15.0000001));"
   ]
  },
  {
   "cell_type": "markdown",
   "metadata": {},
   "source": [
    "# Univariate Normal Distribution\n",
    "* Defined on continuous values $x \\in [-inf,inf]$\n",
    "* Two parameters, mean $\\mu$ and the variance $\\sigma^2$\n",
    "* Parameter $\\mu$ can take any value and determines the position of the peak\n",
    "* The parameter $\\sigma^2$ takes only positive values and determines the width of the distribution.\n",
    "\n",
    "Defined as:\n",
    "$$\n",
    "\\operatorname{Pr}(x)=\\frac{1}{\\sqrt{2 \\pi \\sigma^{2}}} \\exp \\left[-0.5(x-\\mu)^{2} / \\sigma^{2}\\right]\n",
    "$$\n",
    "\n",
    "Abbreviate to:\n",
    "$$\n",
    "\\operatorname{Pr}(x)=\\operatorname{Norm}_{x}\\left[\\mu, \\sigma^{2}\\right]\n",
    "$$"
   ]
  },
  {
   "cell_type": "code",
   "execution_count": 60,
   "metadata": {},
   "outputs": [],
   "source": [
    "import matplotlib.pyplot as plt\n",
    "import numpy as np\n",
    "import scipy.stats as stats\n",
    "import math\n",
    "\n",
    "def univariate_normal(𝜇, var):\n",
    "    value = np.random.normal(loc=𝜇,scale=var,size=1000)\n",
    "    sns.distplot(value)\n",
    "    plt.xlabel(\"Value\")\n",
    "    plt.ylabel(\"Probability\")\n",
    "    plt.title(\"Univariate Normal Distribution\")"
   ]
  },
  {
   "cell_type": "code",
   "execution_count": 64,
   "metadata": {},
   "outputs": [
    {
     "data": {
      "application/vnd.jupyter.widget-view+json": {
       "model_id": "c27f473a576044e685f67b4ecec29947",
       "version_major": 2,
       "version_minor": 0
      },
      "text/plain": [
       "interactive(children=(IntSlider(value=0, description='μ', min=-100), FloatSlider(value=7.5000001, description=…"
      ]
     },
     "metadata": {},
     "output_type": "display_data"
    }
   ],
   "source": [
    "interact(univariate_normal, 𝜇=(-100,100), var=(0.0000001,15.0000001));"
   ]
  },
  {
   "cell_type": "markdown",
   "metadata": {},
   "source": [
    "# Normal-Scaled Inverse Gamma\n",
    "* Defined over a pair of continuous values $\\mu, \\sigma^2$, the first of which can take any value, the second of which is constrained to be positive\n",
    "* It can define a distribution over the mean and variance parameters of the normal distribution\n",
    "* Four parameters $\\alpha, \\beta, \\gamma, \\delta$ where $\\alpha, \\beta, \\gamma$ are positive real numbers but $\\delta$ can take any value.\n",
    "* Its pdf is:\n",
    "$$\n",
    "\\operatorname{Pr}\\left(\\mu, \\sigma^{2}\\right)=\\frac{\\sqrt{\\gamma}}{\\sigma \\sqrt{2 \\pi}} \\frac{\\beta^{\\alpha}}{\\Gamma[\\alpha]}\\left(\\frac{1}{\\sigma^{2}}\\right)^{\\alpha+1} \\exp \\left[-\\frac{2 \\beta+\\gamma(\\delta-\\mu)^{2}}{2 \\sigma^{2}}\\right]\n",
    "$$\n",
    "\n",
    "For short:\n",
    "$$\n",
    "\\operatorname{Pr}\\left(\\mu, \\sigma^{2}\\right)=\\text { NormInvGam }_{\\mu, \\sigma^{2}}[\\alpha, \\beta, \\gamma, \\delta]\n",
    "$$"
   ]
  },
  {
   "cell_type": "code",
   "execution_count": null,
   "metadata": {},
   "outputs": [],
   "source": []
  },
  {
   "cell_type": "markdown",
   "metadata": {},
   "source": [
    "Multivariate Normal Distribution"
   ]
  },
  {
   "cell_type": "markdown",
   "metadata": {},
   "source": [
    "# Normal Inverse Wishart Distribution"
   ]
  },
  {
   "cell_type": "code",
   "execution_count": null,
   "metadata": {},
   "outputs": [],
   "source": []
  }
 ],
 "metadata": {
  "kernelspec": {
   "display_name": "coms4036",
   "language": "python",
   "name": "coms4036"
  },
  "language_info": {
   "codemirror_mode": {
    "name": "ipython",
    "version": 3
   },
   "file_extension": ".py",
   "mimetype": "text/x-python",
   "name": "python",
   "nbconvert_exporter": "python",
   "pygments_lexer": "ipython3",
   "version": "3.7.3"
  }
 },
 "nbformat": 4,
 "nbformat_minor": 2
}
