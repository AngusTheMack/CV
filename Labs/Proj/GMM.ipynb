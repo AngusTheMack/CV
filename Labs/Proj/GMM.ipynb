{
 "cells": [
  {
   "cell_type": "code",
   "execution_count": null,
   "metadata": {},
   "outputs": [],
   "source": [
    "# Gaussian Mixture Model\n",
    "## Angus Mackenzie - 1106817\n",
    "In this project w"
   ]
  },
  {
   "cell_type": "code",
   "execution_count": 1,
   "metadata": {},
   "outputs": [],
   "source": [
    "import numpy as np\n",
    "from scipy import stats\n",
    "exam = False"
   ]
  },
  {
   "cell_type": "markdown",
   "metadata": {},
   "source": [
    "$$\n",
    "\\begin{array}{l}{=\\frac{\\lambda_{k} \\mathrm{Norm}_{\\mathrm{x}_{i}}\\left[\\mu_{k}, \\Sigma_{k}\\right]}{\\sum_{j=1}^{K} \\lambda_{j} \\operatorname{Norm}_{\\mathrm{x}_{i}}\\left[\\mu_{j}, \\Sigma_{j}\\right]}} \\\\ {=r_{i k}}\\end{array}\n",
    "$$"
   ]
  },
  {
   "cell_type": "code",
   "execution_count": 2,
   "metadata": {},
   "outputs": [],
   "source": [
    "if exam:\n",
    "    k = 2\n",
    "    𝜆 = np.array([0.5,0.5])\n",
    "    𝜎_2 = np.array([10,10])\n",
    "    𝜇 = np.array([250,20])\n",
    "    x_n = 5\n",
    "    x = np.array([255,255,1,3,3])\n",
    "else:\n",
    "#     k = 2\n",
    "#     𝜆 = np.array([0.25,0.75])\n",
    "#     𝜎_2 = np.array([10,10])\n",
    "#     𝜇 = np.array([10,1])\n",
    "#     x_n = 5\n",
    "#     x = np.array([1,2,3,9,7])\n",
    "    k = 2\n",
    "    𝜆 = np.array([0.5,0.5])\n",
    "    𝜎_2 = np.array([0.4,0.3])\n",
    "    𝜇 = np.array([0.50,0.75])\n",
    "    x_n = 5\n",
    "    x = np.array([0,0.1,1.1,1.2,0.3])"
   ]
  },
  {
   "cell_type": "code",
   "execution_count": 3,
   "metadata": {},
   "outputs": [],
   "source": [
    "def e_step(k, 𝜆, 𝜎_2, 𝜇, x):\n",
    "    for i in range(k):\n",
    "        val = 𝜆[i]*stats.multivariate_normal.pdf(x, mean=𝜇[i], cov=𝜎_2[i])\n",
    "        sum_components = 0\n",
    "        for j in range(k):\n",
    "            sum_components+=𝜆[j]*stats.multivariate_normal.pdf(x, mean=𝜇[j],cov=𝜎_2[j])\n",
    "        print(val/sum_components,3)"
   ]
  },
  {
   "cell_type": "code",
   "execution_count": 4,
   "metadata": {},
   "outputs": [
    {
     "name": "stdout",
     "output_type": "stream",
     "text": [
      "[0.61802151 0.58911926 0.40379569 0.39679411 0.5358531 ] 3\n",
      "[0.38197849 0.41088074 0.59620431 0.60320589 0.4641469 ] 3\n"
     ]
    }
   ],
   "source": [
    "e_step(k, 𝜆, 𝜎_2, 𝜇, x)"
   ]
  },
  {
   "cell_type": "markdown",
   "metadata": {},
   "source": [
    "$$\n",
    "\\begin{aligned} \\lambda_{k}^{[t+1]} &=\\frac{\\sum_{i=1}^{I} r_{i k}}{\\sum_{j=1}^{K} \\sum_{i=1}^{I} r_{i j}} \\\\ \\boldsymbol{\\mu}_{k}^{[t+1]} &=\\frac{\\sum_{i=1}^{I} r_{i k} \\mathbf{x}_{i}}{\\sum_{i=1}^{I} r_{i k}} \\\\ \\boldsymbol{\\Sigma}_{k}^{[t+1]} &=\\frac{\\sum_{i=1}^{I} r_{i k}\\left(\\mathbf{x}_{i}-\\boldsymbol{\\mu}_{k}^{[t+1]}\\right)\\left(\\mathbf{x}_{i}-\\boldsymbol{\\mu}_{k}^{[t+1]}\\right)^{T}}{\\sum_{i=1}^{I} r_{i k}} \\end{aligned}\n",
    "$$"
   ]
  },
  {
   "cell_type": "code",
   "execution_count": 5,
   "metadata": {},
   "outputs": [],
   "source": [
    "x_ri = np.array([0,0.1,1.1,1.2,0.3])\n",
    "ri_0 = np.array([0.606, 0.593, 0.402, 0.378, 0.563])\n",
    "ri_1 = np.array([0.394, 0.407, 0.598, 0.622, 0.437])\n",
    "ris = np.array([ri_0,ri_1])"
   ]
  },
  {
   "cell_type": "code",
   "execution_count": 6,
   "metadata": {},
   "outputs": [],
   "source": [
    "def m_step(x, k, riks):\n",
    "    𝜆 = np.zeros((k))\n",
    "    𝝁 = np.zeros((k))\n",
    "    𝜎_2 = np.zeros((k))\n",
    "    for i in range(k):\n",
    "        𝜆[i] = np.sum(riks[i])/np.sum(riks)\n",
    "        𝝁[i] = np.sum(riks[i]*x)/np.sum(riks[i])\n",
    "        covar_sum = 0\n",
    "        for j in range(len(x)):\n",
    "            covar_sum += (riks[i][j] * (x[j]-𝝁[i])*(x[j]-𝝁[i]).T)/np.sum(riks[i])\n",
    "        𝜎_2[i] = covar_sum\n",
    "    return 𝜆, 𝝁, 𝜎_2"
   ]
  },
  {
   "cell_type": "code",
   "execution_count": 7,
   "metadata": {},
   "outputs": [
    {
     "data": {
      "text/plain": [
       "(array([0.5084, 0.4916]),\n",
       " array([0.44217152, 0.64117168]),\n",
       " array([0.23223415, 0.26532686]))"
      ]
     },
     "execution_count": 7,
     "metadata": {},
     "output_type": "execute_result"
    }
   ],
   "source": [
    "m_step(x_ri,2,ris)"
   ]
  }
 ],
 "metadata": {
  "kernelspec": {
   "display_name": "coms4036",
   "language": "python",
   "name": "coms4036"
  },
  "language_info": {
   "codemirror_mode": {
    "name": "ipython",
    "version": 3
   },
   "file_extension": ".py",
   "mimetype": "text/x-python",
   "name": "python",
   "nbconvert_exporter": "python",
   "pygments_lexer": "ipython3",
   "version": "3.7.3"
  }
 },
 "nbformat": 4,
 "nbformat_minor": 2
}
