{
 "cells": [
  {
   "cell_type": "markdown",
   "metadata": {},
   "source": [
    "# TESTS"
   ]
  },
  {
   "cell_type": "markdown",
   "metadata": {},
   "source": [
    "# Probability"
   ]
  },
  {
   "cell_type": "markdown",
   "metadata": {},
   "source": [
    "### 17\n",
    "![alt text](Images/Probability17.png)\n",
    "### 18\n",
    "\n",
    "![alt text](Images/Probability18.png)\n",
    "### 19\n",
    "\n",
    "![alt text](Images/Probability19.png)\n",
    "## Exams\n",
    "### 17\n",
    "![alt text](Images/prob17_e_1.png)\n",
    "![alt text](Images/prob17_e_2.png)\n",
    "![alt text](Images/prob17_e_3.png)\n",
    "### 18\n",
    "![alt text](Images/Prob18_e_1.png)\n",
    "![alt text](Images/Prob18_e_2.png)\n",
    "![alt text](Images/Prob18_e_3.png)"
   ]
  },
  {
   "cell_type": "markdown",
   "metadata": {},
   "source": [
    "# Fitting models and Classification"
   ]
  },
  {
   "cell_type": "markdown",
   "metadata": {},
   "source": [
    "### 17\n",
    "![alt text](Images/FittingModels17.png)\n",
    "### 18\n",
    "![alt text](Images/FittingModels18.png)\n",
    "### 19\n",
    "![alt text](Images/FittingModels19_1.png)\n",
    "![alt text](Images/FittingModels19_2.png)\n",
    "## Exam 17\n",
    "![alt text](Images/Modelling17_e.png)"
   ]
  },
  {
   "cell_type": "markdown",
   "metadata": {},
   "source": [
    "# Gaussian Mixture Models"
   ]
  },
  {
   "cell_type": "markdown",
   "metadata": {},
   "source": [
    "### 17\n",
    "![alt text](Images/GMM17_1.png)\n",
    "![alt text](Images/GMM17_2.png)\n",
    "![alt text](Images/GMM17_3.png)\n",
    "### 18\n",
    "![alt text](Images/GMM18_1.png)\n",
    "![alt text](Images/GMM18_2.png)\n",
    "### 19\n",
    "![alt text](Images/GMM19_1.png)\n",
    "![alt text](Images/GMM19_2.png)\n",
    "## Exam\n",
    "### 17\n",
    "![alt text](Images/GMM17_e_1.png)\n",
    "![alt text](Images/GMM17_e_2.png)\n",
    "### 18\n",
    "![alt text](Images/GMM18_e_1.png)\n",
    "![alt text](Images/GMM18_e_2.png)"
   ]
  },
  {
   "cell_type": "markdown",
   "metadata": {},
   "source": [
    "# Transformations"
   ]
  },
  {
   "cell_type": "markdown",
   "metadata": {},
   "source": [
    "### 17\n",
    "![alt text](Images/Trans17_1.png)\n",
    "![alt text](Images/Trans17_2.png)\n",
    "### 18\n",
    "![alt text](Images/Trans18_1.png)\n",
    "![alt text](Images/Trans18_2.png)\n",
    "### 19\n",
    "![alt text](Images/Trans19.png)\n",
    "## Exam\n",
    "### 17\n",
    "![alt text](Images/Trans17_e_1.png)\n",
    "![alt text](Images/Trans17_e_2.png)\n",
    "### 18\n",
    "![alt text](Images/Trans18_e.png)\n",
    "\n"
   ]
  },
  {
   "cell_type": "markdown",
   "metadata": {},
   "source": [
    "# Preprocessing"
   ]
  },
  {
   "cell_type": "markdown",
   "metadata": {},
   "source": [
    "### 17\n",
    "![alt text](Images/Pre17_1.png)\n",
    "![alt text](Images/Pre17_2.png)\n",
    "### 18\n",
    "![alt text](Images/Pre18_1.png)\n",
    "![alt text](Images/Pre18_2.png)\n",
    "### 19\n",
    "![alt text](Images/Pre19_1.png)\n",
    "![alt text](Images/Pre19_2.png)\n",
    "![alt text](Images/Pre19_3.png)\n",
    "\n",
    "## Exams\n",
    "### 17\n",
    "![alt text](Images/Pre17_e_1.png)\n",
    "![alt text](Images/Pre17_e_2.png)\n",
    "![alt text](Images/Pre17_e_3.png)\n",
    "![alt text](Images/Pre17_e_4.png)\n",
    "![alt text](Images/Pre17_e_5.png)\n",
    "### 18\n",
    "![alt text](Images/Pre18_e_1.png)\n",
    "![alt text](Images/Pre18_e_2.png)"
   ]
  },
  {
   "cell_type": "markdown",
   "metadata": {},
   "source": [
    "# Pinhole Camera\n",
    "### 17\n",
    "![alt text](Images/Pin17.png)\n",
    "### 18\n",
    "![alt text](Images/Pin18.png)\n",
    "### 19\n",
    "![alt text](Images/Pin19_1.png)\n",
    "![alt text](Images/Pin19_2.png)\n",
    "\n",
    "## Exam\n",
    "### 17\n",
    "![alt text](Images/Pin17_e.png)\n",
    "### 18\n",
    "![alt text](Images/Pin18_e.png)\n"
   ]
  },
  {
   "cell_type": "markdown",
   "metadata": {},
   "source": [
    "# Shape\n",
    "### 17\n",
    "![alt text](Images/Shape17.png)\n",
    "## Exam\n",
    "![alt text](Images/Shape17_e.png)\n",
    "![alt text](Images/Shape18_e.png)"
   ]
  },
  {
   "cell_type": "markdown",
   "metadata": {},
   "source": [
    "# CNN\n",
    "### 18\n",
    "![alt text](Images/CNN18_1.png)\n",
    "![alt text](Images/CNN18_2.png)\n",
    "### 19\n",
    "![alt text](Images/CNN19_1.png)\n",
    "![alt text](Images/CNN19_2.png)\n",
    "![alt text](Images/CNN18_13png)\n",
    "\n",
    "## Exam\n",
    "### 18\n",
    "![alt text](Images/CNN18_e_1.png)\n",
    "![alt text](Images/CNN18_e_2.png)\n"
   ]
  },
  {
   "cell_type": "code",
   "execution_count": null,
   "metadata": {},
   "outputs": [],
   "source": []
  }
 ],
 "metadata": {
  "kernelspec": {
   "display_name": "Python 3",
   "language": "python",
   "name": "python3"
  },
  "language_info": {
   "codemirror_mode": {
    "name": "ipython",
    "version": 3
   },
   "file_extension": ".py",
   "mimetype": "text/x-python",
   "name": "python",
   "nbconvert_exporter": "python",
   "pygments_lexer": "ipython3",
   "version": "3.7.4"
  }
 },
 "nbformat": 4,
 "nbformat_minor": 4
}
