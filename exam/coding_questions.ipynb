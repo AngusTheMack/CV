{
 "cells": [
  {
   "cell_type": "code",
   "execution_count": 19,
   "metadata": {},
   "outputs": [],
   "source": [
    "import numpy as np\n",
    "from scipy import stats\n",
    "# import cv2\n",
    "import matplotlib.pyplot as plt\n",
    "from mpmath import *\n",
    "from tqdm.auto import tqdm\n",
    "import os\n",
    "import time\n",
    "# Make it so it always prints with decimals and not scientific notation\n",
    "np.set_printoptions(suppress=True)"
   ]
  },
  {
   "cell_type": "markdown",
   "metadata": {},
   "source": [
    "GMM Questions"
   ]
  },
  {
   "cell_type": "code",
   "execution_count": 2,
   "metadata": {},
   "outputs": [],
   "source": [
    "def e_step(x, params):\n",
    "    \"\"\"\n",
    "    Expecation step, takes in x and returns the r\n",
    "    \"\"\"\n",
    "    r = []\n",
    "    sum_r = 0\n",
    "    for 𝜆, 𝜇, 𝜎 in params:\n",
    "        r_ik = 𝜆 * stats.multivariate_normal.pdf(x, mean=𝜇, cov=𝜎, allow_singular=True)\n",
    "        r.append(r_ik)\n",
    "        sum_r += r_ik\n",
    "\n",
    "    return np.array(r) / sum_r"
   ]
  },
  {
   "cell_type": "code",
   "execution_count": 3,
   "metadata": {},
   "outputs": [
    {
     "data": {
      "text/plain": [
       "array([[1., 1., 0., 0., 0.],\n",
       "       [0., 0., 1., 1., 1.]])"
      ]
     },
     "execution_count": 3,
     "metadata": {},
     "output_type": "execute_result"
    }
   ],
   "source": [
    "# Test data for E-Step taken from 2017 November Exam\n",
    "p = np.array([[0.5,250,10],[0.5,20,10]])\n",
    "x_test = np.array([255,255,1,3,3])\n",
    "e_step(x_test, p)"
   ]
  },
  {
   "cell_type": "markdown",
   "metadata": {},
   "source": [
    "Expected output:\n",
    "\n",
    "\n",
    "|n|x|R0|R1|\n",
    "|---|---|---|---|\n",
    "|0|255|1|0|\n",
    "|1|255|1|0|\n",
    "|2|1|0|1|\n",
    "|3|3|0|1|\n",
    "|4|3|0|1|"
   ]
  },
  {
   "cell_type": "code",
   "execution_count": 11,
   "metadata": {},
   "outputs": [
    {
     "data": {
      "text/plain": [
       "array([[0.0058, 0.0141, 0.0339, 0.8861, 0.5625],\n",
       "       [0.9942, 0.9859, 0.9661, 0.1139, 0.4375]])"
      ]
     },
     "execution_count": 11,
     "metadata": {},
     "output_type": "execute_result"
    }
   ],
   "source": [
    "# Test data taken from 2018 Test 2\n",
    "p = np.array([[0.25,10,10],[0.75,1,10]])\n",
    "x_test = np.array([1,2,3,9,7])\n",
    "np.round(e_step(x_test, p),4)\n",
    "# Are these correct?"
   ]
  },
  {
   "cell_type": "code",
   "execution_count": 18,
   "metadata": {},
   "outputs": [
    {
     "data": {
      "text/plain": [
       "array([[0.    , 0.0002, 0.0873, 1.    , 1.    ],\n",
       "       [1.    , 0.9998, 0.9127, 0.    , 0.    ]])"
      ]
     },
     "execution_count": 18,
     "metadata": {},
     "output_type": "execute_result"
    }
   ],
   "source": [
    "# Test Data from 2019 Test 1\n",
    "p = np.array([[0.3,15,5 ],[0.7,0,5]])\n",
    "x_test = np.array([-2,5,7,14,15])\n",
    "np.round(e_step(x_test, p),4)\n",
    "# This is slightly wrong again???"
   ]
  },
  {
   "cell_type": "code",
   "execution_count": 22,
   "metadata": {},
   "outputs": [
    {
     "data": {
      "text/plain": [
       "array([[1., 1., 0., 0., 0.],\n",
       "       [0., 0., 1., 1., 1.]])"
      ]
     },
     "execution_count": 22,
     "metadata": {},
     "output_type": "execute_result"
    }
   ],
   "source": [
    "# Test Data from 2018 Examy\n",
    "p = np.array([[0.3,50,10],[0.7,150,10]])\n",
    "x_test = np.array([0,0,200,205,210])\n",
    "np.round(e_step(x_test, p),4)\n",
    "# This is slightly wrong again???"
   ]
  },
  {
   "cell_type": "markdown",
   "metadata": {},
   "source": [
    "\n",
    "|n|x|R0|R1|\n",
    "|---|---|---|---|\n",
    "|0|0|1|0|\n",
    "|1|0|1|0|\n",
    "|2|200|0|1|\n",
    "|3|205|0|1|\n",
    "|4|210|0|1|"
   ]
  },
  {
   "cell_type": "code",
   "execution_count": 5,
   "metadata": {},
   "outputs": [],
   "source": [
    "def m_step(x, r, parameters, two_dim = True):\n",
    "    \"\"\"\n",
    "    Maximisation Step, takes in x and r and maximises the parameters\n",
    "    \"\"\"\n",
    "    new_parameters = []\n",
    "    for i, (𝜆, 𝜇, 𝜎) in enumerate(parameters):\n",
    "        ri_sum = np.sum(r[i])\n",
    "        r_sum = np.sum(r)\n",
    "        𝜆  = ri_sum / r_sum\n",
    "        if two_dim:\n",
    "            𝜇 = np.sum(r[i] * x, axis=1)/ri_sum\n",
    "            diff = x.T - 𝜇\n",
    "            cov_i =np.dot(diff.T, np.multiply(r[i].reshape(len(r[i]),1), diff))\n",
    "            𝜎 = ( cov_i / r[i].sum()) + 1e-4*np.eye(cov_i.shape[0])\n",
    "        \n",
    "        else:\n",
    "            𝜇 = np.sum(r[i]*x)/np.sum(r[i])\n",
    "            covar_sum = 0\n",
    "            for j in range(len(x)):\n",
    "                covar_sum += (r[i][j] * (x[j]-𝜇)*(x[j]-𝜇).T)/np.sum(r[i])\n",
    "            𝜎 = covar_sum\n",
    "        new_parameters.append((𝜆, 𝜇, 𝜎))\n",
    "    return new_parameters"
   ]
  },
  {
   "cell_type": "code",
   "execution_count": 9,
   "metadata": {},
   "outputs": [
    {
     "name": "stdout",
     "output_type": "stream",
     "text": [
      "𝜆 0.5084 0.4915999999999999\n",
      "𝜇 0.4421715184893785 0.6411716842961759\n",
      "𝜎 0.23223415154128194 0.26532686149276935\n"
     ]
    }
   ],
   "source": [
    "# Test data for M-step taken from Test 2 2017\n",
    "x_ri = np.array([0, 0.1, 1.1, 1.2, 0.3])\n",
    "ri_0 = np.array([0.606, 0.593, 0.402, 0.378, 0.563])\n",
    "ri_1 = np.array([0.394, 0.407, 0.598, 0.622, 0.437])\n",
    "ris = np.array([ri_0, ri_1])\n",
    "p = np.array([[0.5, 0.5, 0.4], [0.5, 0.75, 0.3]])\n",
    "new_p = m_step(x_ri,ris, p, two_dim = False)\n",
    "print(\"𝜆\",new_p[0][0],new_p[1][0])\n",
    "print(\"𝜇\",new_p[0][1],new_p[1][1])\n",
    "print(\"𝜎\",new_p[0][2],new_p[1][2])"
   ]
  },
  {
   "cell_type": "markdown",
   "metadata": {},
   "source": [
    "Correct output:\n",
    "\n",
    "\n",
    "|#|𝜆|𝜇|𝜎|\n",
    "|---|---|---|---|\n",
    "|0|0.5084|0.44217152|0.23223415|\n",
    "|1|0.4916|0.64117168|0.26532686|\n"
   ]
  },
  {
   "cell_type": "code",
   "execution_count": 12,
   "metadata": {},
   "outputs": [
    {
     "name": "stdout",
     "output_type": "stream",
     "text": [
      "𝜆 0.2562 0.7438\n",
      "𝜇 3.4769711163153785 4.4490454423232055\n",
      "𝜎 9.7529825510783 11.133663380295847\n"
     ]
    }
   ],
   "source": [
    "# Test data for M-step taken from Test 2 2018\n",
    "x_ri = np.array([0, 2, 3, 9, 7])\n",
    "ri_0 = np.array([0.321, 0.300, 0.279, 0.175, 0.206])\n",
    "ri_1 = np.array([0.679, 0.700, 0.721, 0.825, 0.794])\n",
    "ris = np.array([ri_0, ri_1])\n",
    "p = np.array([[0.25, 10, 10], [0.75, 1, 10]])\n",
    "new_p = m_step(x_ri,ris, p, two_dim = False)\n",
    "print(\"𝜆\",new_p[0][0],new_p[1][0])\n",
    "print(\"𝜇\",new_p[0][1],new_p[1][1])\n",
    "print(\"𝜎\",new_p[0][2],new_p[1][2])"
   ]
  },
  {
   "cell_type": "code",
   "execution_count": 24,
   "metadata": {},
   "outputs": [
    {
     "name": "stdout",
     "output_type": "stream",
     "text": [
      "𝜆 0.4 0.6\n",
      "𝜇 0.0 205.0\n",
      "𝜎 0.0 16.666666666666668\n"
     ]
    }
   ],
   "source": [
    "# Test data for M-step taken from Test-1 2019\n",
    "x_ri = np.array([0,0,200,205,210])\n",
    "ri_0 = np.array([1, 1, 0, 0, 0])\n",
    "ri_1 = np.array([0, 0, 1, 1, 1])\n",
    "ris = np.array([ri_0, ri_1])\n",
    "p = np.array([[0.3, 50, 10], [0.7, 150, 10]])\n",
    "new_p = m_step(x_ri,ris, p, two_dim = False)\n",
    "print(\"𝜆\",new_p[0][0],new_p[1][0])\n",
    "print(\"𝜇\",new_p[0][1],new_p[1][1])\n",
    "print(\"𝜎\",new_p[0][2],new_p[1][2])\n"
   ]
  },
  {
   "cell_type": "markdown",
   "metadata": {},
   "source": [
    "Correct output:\n",
    "\n",
    "\n",
    "|#|𝜆|𝜇|𝜎|\n",
    "|---|---|---|---|\n",
    "|0|0.4|0|0|\n",
    "|1|0.6|205|16.666|\n"
   ]
  },
  {
   "cell_type": "code",
   "execution_count": null,
   "metadata": {},
   "outputs": [],
   "source": []
  }
 ],
 "metadata": {
  "kernelspec": {
   "display_name": "Python 3",
   "language": "python",
   "name": "python3"
  },
  "language_info": {
   "codemirror_mode": {
    "name": "ipython",
    "version": 3
   },
   "file_extension": ".py",
   "mimetype": "text/x-python",
   "name": "python",
   "nbconvert_exporter": "python",
   "pygments_lexer": "ipython3",
   "version": "3.7.4"
  }
 },
 "nbformat": 4,
 "nbformat_minor": 4
}
